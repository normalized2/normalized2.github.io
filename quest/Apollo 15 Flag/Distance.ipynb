{
 "cells": [
  {
   "cell_type": "markdown",
   "metadata": {},
   "source": [
    "## Ссылки на исходные материалы:\n",
    "\n",
    "Исходный ролик  \n",
    "[1] https://youtu.be/ymwE1sNm82Y  \n",
    "0:29-0:40 (астронавт протискивается бочком) и 2:40 (клыхания флага)\n",
    "\n",
    "http://www.hq.nasa.gov/alsj/a15/a15.clsout2.html#1485548\n",
    "\n",
    "https://github.com/normalized2/apollo_glavsu/wiki/%D0%A4%D0%BB%D0%B0%D0%B3\n",
    "\n",
    "\n",
    "Ролик объясняющий сцену (вполне возможное касание флага)  \n",
    "https://youtu.be/GbJvgqoeFSU\n",
    "\n",
    "https://youtu.be/ymgxYZhENsA\n",
    "\n",
    "Apollo 15 Moving Flag Analysis.avi  \n",
    "https://youtu.be/Lx5H7Rwfkjo  \n",
    "(Анализ взаимного расположениия используя фотографию [AS15-92-12446](https://www.flickr.com/photos/projectapolloarchive/21489361038/in/photostream/) или [AS15-92-12447](https://www.flickr.com/photos/projectapolloarchive/21651128526/in/photostream/),  с другой точки зрения)\n"
   ]
  },
  {
   "cell_type": "markdown",
   "metadata": {},
   "source": [
    "# TODO"
   ]
  },
  {
   "cell_type": "markdown",
   "metadata": {},
   "source": [
    "Alexxey:  \n",
    "А разве нельзя как-то попроще прикинуть, чисто геометрически? Размер флага известен (H x L), по визуально наблюдаемому соотношению сторон можно вычислить угол поворота полотна флага в сторону камеры -> расстояние флагшток - передняя кромка флага в направлении съёмки (L'). Это всё не зависит от фокусного расстояния. Далее, если расстояние камера - флагшток X, то угловой размер задней кромки флага из точки съёмки равен 2·arctg(H/2·X), передней кромки — 2·arctg(H/2·(X-L')). Принимая разные значения фокусного расстояния, можно измерять угловые размеры кромок прямо по изображению и вычислять X, а значит и размер \"коридора\" между флагом и камерой. Но это предельно упрощённо, так как съёмка довольно близкая, то могут возникнуть заморочки со сферической проекцией и т.п. Т.е. всё может быть несколько сложнее, но имхо в любом случае попроще, чем с 3D моделированиями.\n",
    "\n",
    "## TODO\n",
    "\n",
    "- использовать <a href=\"http://www.hq.nasa.gov/alsj/a15/a15.clsout2.html#1485548\">mpg</a> а не скриншот с видио ролика, так как aspect ratio на youtube может отличаться (хотя ролик на youtube с поями)"
   ]
  },
  {
   "cell_type": "markdown",
   "metadata": {},
   "source": [
    "## Import"
   ]
  },
  {
   "cell_type": "code",
   "execution_count": 1,
   "metadata": {},
   "outputs": [],
   "source": [
    "# autoreload python modules on the fly when its source is changed\n",
    "%load_ext autoreload\n",
    "%autoreload 2\n",
    "\n",
    "from __future__ import print_function\n",
    "from __future__ import division\n",
    "\n",
    "import os, sys\n",
    "from os.path import join, exists, abspath, isfile, isdir, basename, abspath\n",
    "import numpy as np\n",
    "import re\n",
    "import pandas as pd\n",
    "from collections import OrderedDict\n",
    "import seaborn as sns\n",
    "\n",
    "%matplotlib inline\n",
    "sns.set_context(\"notebook\")\n",
    "\n",
    "from IPython.core.display import display, HTML, SVG\n",
    "\n"
   ]
  },
  {
   "cell_type": "code",
   "execution_count": 2,
   "metadata": {},
   "outputs": [],
   "source": [
    "from utils import *"
   ]
  },
  {
   "cell_type": "markdown",
   "metadata": {},
   "source": [
    "### Параметры\n",
    "\n",
    "Размер флага\n",
    "https://en.wikipedia.org/wiki/Lunar_Flag_Assembly\n",
    "\n"
   ]
  },
  {
   "cell_type": "code",
   "execution_count": 3,
   "metadata": {},
   "outputs": [],
   "source": [
    "H = 0.91\n",
    "L = 1.52"
   ]
  },
  {
   "cell_type": "markdown",
   "metadata": {},
   "source": [
    "### Измерение"
   ]
  },
  {
   "cell_type": "markdown",
   "metadata": {},
   "source": [
    "Исходное изображение:"
   ]
  },
  {
   "cell_type": "code",
   "execution_count": 4,
   "metadata": {},
   "outputs": [
    {
     "name": "stdout",
     "output_type": "stream",
     "text": [
      "a15_2.35.png PNG 1920x1080 1920x1080+0+0 8-bit DirectClass 472KB 0.000u 0:00.000\r\n"
     ]
    }
   ],
   "source": [
    "!identify a15_2.35.png"
   ]
  },
  {
   "cell_type": "markdown",
   "metadata": {},
   "source": [
    "Задаем масштаб для отрисовки"
   ]
  },
  {
   "cell_type": "code",
   "execution_count": 5,
   "metadata": {},
   "outputs": [
    {
     "data": {
      "text/plain": [
       "(576.0, 324.0)"
      ]
     },
     "execution_count": 5,
     "metadata": {},
     "output_type": "execute_result"
    }
   ],
   "source": [
    "scale = 3 / 10\n",
    "1920 * scale, 1080 * scale"
   ]
  },
  {
   "cell_type": "code",
   "execution_count": 6,
   "metadata": {},
   "outputs": [
    {
     "data": {
      "text/html": [
       "<img src=\"a15_2.35.png\" width=\"576\" height=\"324\"/>"
      ],
      "text/plain": [
       "<IPython.core.display.HTML object>"
      ]
     },
     "execution_count": 6,
     "metadata": {},
     "output_type": "execute_result"
    }
   ],
   "source": [
    "HTML(\"\"\"<img src=\"a15_2.35.png\" width=\"576\" height=\"324\"/>\"\"\")"
   ]
  },
  {
   "cell_type": "markdown",
   "metadata": {},
   "source": [
    "Загружаем метки"
   ]
  },
  {
   "cell_type": "code",
   "execution_count": 7,
   "metadata": {},
   "outputs": [],
   "source": [
    "fn_labels = 'a15_labels.json'\n",
    "labels = parse_lables(fn_labels)\n",
    "df = labels2df(labels, scale)"
   ]
  },
  {
   "cell_type": "code",
   "execution_count": 8,
   "metadata": {},
   "outputs": [
    {
     "data": {
      "text/html": [
       "<div>\n",
       "<style scoped>\n",
       "    .dataframe tbody tr th:only-of-type {\n",
       "        vertical-align: middle;\n",
       "    }\n",
       "\n",
       "    .dataframe tbody tr th {\n",
       "        vertical-align: top;\n",
       "    }\n",
       "\n",
       "    .dataframe thead th {\n",
       "        text-align: right;\n",
       "    }\n",
       "</style>\n",
       "<table border=\"1\" class=\"dataframe\">\n",
       "  <thead>\n",
       "    <tr style=\"text-align: right;\">\n",
       "      <th></th>\n",
       "      <th>class</th>\n",
       "      <th>x</th>\n",
       "      <th>y</th>\n",
       "      <th>xs</th>\n",
       "      <th>ys</th>\n",
       "    </tr>\n",
       "  </thead>\n",
       "  <tbody>\n",
       "    <tr>\n",
       "      <th>0</th>\n",
       "      <td>point</td>\n",
       "      <td>874.201499</td>\n",
       "      <td>121.221267</td>\n",
       "      <td>262.260450</td>\n",
       "      <td>36.366380</td>\n",
       "    </tr>\n",
       "    <tr>\n",
       "      <th>1</th>\n",
       "      <td>point</td>\n",
       "      <td>874.404548</td>\n",
       "      <td>475.427609</td>\n",
       "      <td>262.321364</td>\n",
       "      <td>142.628283</td>\n",
       "    </tr>\n",
       "    <tr>\n",
       "      <th>2</th>\n",
       "      <td>point</td>\n",
       "      <td>1318.840006</td>\n",
       "      <td>118.435186</td>\n",
       "      <td>395.652002</td>\n",
       "      <td>35.530556</td>\n",
       "    </tr>\n",
       "    <tr>\n",
       "      <th>3</th>\n",
       "      <td>point</td>\n",
       "      <td>1322.368090</td>\n",
       "      <td>537.699311</td>\n",
       "      <td>396.710427</td>\n",
       "      <td>161.309793</td>\n",
       "    </tr>\n",
       "  </tbody>\n",
       "</table>\n",
       "</div>"
      ],
      "text/plain": [
       "   class            x           y          xs          ys\n",
       "0  point   874.201499  121.221267  262.260450   36.366380\n",
       "1  point   874.404548  475.427609  262.321364  142.628283\n",
       "2  point  1318.840006  118.435186  395.652002   35.530556\n",
       "3  point  1322.368090  537.699311  396.710427  161.309793"
      ]
     },
     "execution_count": 8,
     "metadata": {},
     "output_type": "execute_result"
    }
   ],
   "source": [
    "df"
   ]
  },
  {
   "cell_type": "markdown",
   "metadata": {},
   "source": [
    "Отображаем с метками"
   ]
  },
  {
   "cell_type": "code",
   "execution_count": 9,
   "metadata": {},
   "outputs": [],
   "source": [
    "svg = get_labled_svg(\"a15_2.35.png\", df, scale)"
   ]
  },
  {
   "cell_type": "code",
   "execution_count": 10,
   "metadata": {},
   "outputs": [
    {
     "data": {
      "image/svg+xml": [
       "<svg height=\"324px\" version=\"1.1\" viewBox=\"0 0 576 324\" width=\"576px\" xmlns=\"http://www.w3.org/2000/svg\" xmlns:xlink=\"http://www.w3.org/1999/xlink\">\n",
       "\n",
       "  <style>\n",
       "    /* <![CDATA[ */\n",
       "    circle {\n",
       "      fill: none;\n",
       "      stroke: red;\n",
       "      stroke-width: 1px;\n",
       "    }\n",
       "    /* ]]> */\n",
       "  </style>\n",
       "\n",
       "  <rect fill=\"none\" height=\"323\" stroke=\"#ff0000\" width=\"575\" x=\"1\" y=\"1\"/>\n",
       "  <image height=\"324px\" width=\"576px\" x=\"0\" xlink:href=\"a15_2.35.png\" y=\"0\"/>\n",
       "\n",
       "  \n",
       "<circle cx=\"262.260449676\" cy=\"36.3663799608\" r=\"5\"/>\n",
       "<text x=\"262.260449676\" y=\"66.3663799608\">0</text>\n",
       "\n",
       "\n",
       "<circle cx=\"262.321364349\" cy=\"142.628282802\" r=\"5\"/>\n",
       "<text x=\"262.321364349\" y=\"172.628282802\">1</text>\n",
       "\n",
       "\n",
       "<circle cx=\"395.652001751\" cy=\"35.5305557428\" r=\"5\"/>\n",
       "<text x=\"395.652001751\" y=\"65.5305557428\">2</text>\n",
       "\n",
       "\n",
       "<circle cx=\"396.710427041\" cy=\"161.30979327\" r=\"5\"/>\n",
       "<text x=\"396.710427041\" y=\"191.30979327\">3</text>\n",
       "\n",
       "\n",
       "</svg>"
      ],
      "text/plain": [
       "<IPython.core.display.SVG object>"
      ]
     },
     "execution_count": 10,
     "metadata": {},
     "output_type": "execute_result"
    }
   ],
   "source": [
    "SVG(svg)"
   ]
  },
  {
   "cell_type": "markdown",
   "metadata": {},
   "source": [
    "Размер флага известен (H x L), по визуально наблюдаемому соотношению сторон можно вычислить угол поворота полотна флага в сторону камеры"
   ]
  },
  {
   "cell_type": "code",
   "execution_count": 11,
   "metadata": {},
   "outputs": [
    {
     "name": "stdout",
     "output_type": "stream",
     "text": [
      "Высота кромки флага у флаштока, px:  354.206401003\n",
      "Средняя высота, px:  386.742685073\n",
      "Средняя ширина, px:  448.459141326\n"
     ]
    }
   ],
   "source": [
    "visible_height = D(0, 1, df)\n",
    "mean_visible_height = (D(0, 1, df) + D(2, 3, df)) / 2 \n",
    "mean_visible_width = (D(0, 2, df) + D(1, 3, df)) / 2\n",
    "print(\"Высота кромки флага у флаштока, px: \", visible_height)\n",
    "print(\"Средняя высота, px: \", mean_visible_height)\n",
    "print(\"Средняя ширина, px: \", mean_visible_width)"
   ]
  },
  {
   "cell_type": "markdown",
   "metadata": {},
   "source": [
    "### угол флага относительно оси камеры"
   ]
  },
  {
   "cell_type": "code",
   "execution_count": 12,
   "metadata": {},
   "outputs": [
    {
     "data": {
      "text/plain": [
       "1.1521469331208658"
      ]
     },
     "execution_count": 12,
     "metadata": {},
     "output_type": "execute_result"
    }
   ],
   "source": [
    "# угол флага относительно оси камеры\n",
    "# масштаб, пиксель на метр высоты (на расстоянии флагштока)\n",
    "scale_h = visible_height / H\n",
    "\n",
    "# видимая ширина (метры)\n",
    "visible_width_m = mean_visible_width / scale_h\n",
    "visible_width_m"
   ]
  },
  {
   "cell_type": "code",
   "execution_count": 13,
   "metadata": {},
   "outputs": [
    {
     "data": {
      "text/plain": [
       "0.75799140336899062"
      ]
     },
     "execution_count": 13,
     "metadata": {},
     "output_type": "execute_result"
    }
   ],
   "source": [
    "sin_a = visible_width_m / L\n",
    "sin_a"
   ]
  },
  {
   "cell_type": "code",
   "execution_count": 14,
   "metadata": {},
   "outputs": [
    {
     "name": "stdout",
     "output_type": "stream",
     "text": [
      "Угол флага по отношению к оси от камеры, градусов: 49.2874429923\n"
     ]
    }
   ],
   "source": [
    "angle = np.arcsin(sin_a)\n",
    "print(\"Угол флага по отношению к оси от камеры, градусов:\", angle * 180 / np.pi)"
   ]
  },
  {
   "cell_type": "code",
   "execution_count": 15,
   "metadata": {},
   "outputs": [
    {
     "name": "stdout",
     "output_type": "stream",
     "text": [
      "Расстояние \"флагшток - передняя кромка флага\" в направлении съёмки, метры: 0.991442103453\n"
     ]
    }
   ],
   "source": [
    "L_ = L * np.cos(angle)\n",
    "\n",
    "print(\"\"\"Расстояние \"флагшток - передняя кромка флага\" в направлении съёмки, метры:\"\"\", L_)"
   ]
  },
  {
   "cell_type": "markdown",
   "metadata": {},
   "source": [
    "### Вычисление расстояния\n",
    "\n",
    "$\\alpha_0$ - угол кромки флака на флагштоке\n",
    "$\\alpha_1$ - угол ближней кромки флага\n",
    "$X$ расстояние до флагштока\n",
    "$L'$ -  расстояние \"флагшток - передняя кромка флага\" в направлении съёмки\n",
    "\n",
    "Тогда:\n",
    "\n",
    "$$\n",
    "\\begin{align}\n",
    "\\tan \\alpha_0 &= \\frac{H}{X} \\\\\n",
    "\\tan \\alpha_1 &= \\frac{H}{X - L'}\n",
    "\\end{align}\n",
    "$$\n",
    "\n",
    "Нa самом отображенни:\n",
    "\n",
    "$h_0$ - высота отображения кромки флака на флагштоке\n",
    "$h_1$ - высота отображения ближней кромки флага\n",
    "\n",
    "\n",
    "Отношению $k$ размеров отображений кромок флага (насколько ближняя кажется больше задней кромки)\n",
    "\n",
    "$$k = \\frac{h_1}{h_0}$$\n",
    "\n",
    "вычисляется по изображнию.\n",
    "\n",
    "\n",
    "Упращенно, отношение тангенсов углов равно (примерно) отоношению отображений, т.е.\n",
    "\n",
    "$$\n",
    "\\frac{h_1}{h_0} = \\frac{\\tan \\alpha_1}{\\tan \\alpha_0}\n",
    "$$\n",
    "\n",
    "$$\n",
    "k = \\frac{\\frac{H}{X - L'}} {\\frac{H}{X}} = \\frac{X}{X-L'}\n",
    "$$\n",
    "\n",
    "Откуда\n",
    "\n",
    "$$k X - k L' = X$$\n",
    "$$X (k -1) =  k L' $$\n",
    "$$ X = \\frac{k L'}{k - 1}$$\n"
   ]
  },
  {
   "cell_type": "code",
   "execution_count": 16,
   "metadata": {},
   "outputs": [
    {
     "data": {
      "text/plain": [
       "1.1837136990107642"
      ]
     },
     "execution_count": 16,
     "metadata": {},
     "output_type": "execute_result"
    }
   ],
   "source": [
    "k = D(2, 3, df) / D(0, 1, df)\n",
    "k"
   ]
  },
  {
   "cell_type": "code",
   "execution_count": 17,
   "metadata": {},
   "outputs": [
    {
     "data": {
      "text/plain": [
       "6.3881115341601298"
      ]
     },
     "execution_count": 17,
     "metadata": {},
     "output_type": "execute_result"
    }
   ],
   "source": [
    "X = k / (k - 1) * L_\n",
    "X"
   ]
  },
  {
   "cell_type": "markdown",
   "metadata": {},
   "source": [
    "Если допустить, что правый нижний угол скомкался на 9% (~ 8 см)"
   ]
  },
  {
   "cell_type": "code",
   "execution_count": 18,
   "metadata": {},
   "outputs": [
    {
     "data": {
      "text/plain": [
       "4.2734384862100461"
      ]
     },
     "execution_count": 18,
     "metadata": {},
     "output_type": "execute_result"
    }
   ],
   "source": [
    "k = D(2, 3, df) * 1.1 / D(0, 1, df)\n",
    "X = k / (k - 1) * L_\n",
    "X"
   ]
  },
  {
   "cell_type": "code",
   "execution_count": null,
   "metadata": {},
   "outputs": [],
   "source": []
  }
 ],
 "metadata": {
  "kernelspec": {
   "display_name": "Python 2",
   "language": "python",
   "name": "python2"
  },
  "language_info": {
   "codemirror_mode": {
    "name": "ipython",
    "version": 2
   },
   "file_extension": ".py",
   "mimetype": "text/x-python",
   "name": "python",
   "nbconvert_exporter": "python",
   "pygments_lexer": "ipython2",
   "version": "2.7.6"
  },
  "toc": {
   "nav_menu": {},
   "number_sections": true,
   "sideBar": true,
   "skip_h1_title": false,
   "toc_cell": false,
   "toc_position": {},
   "toc_section_display": "block",
   "toc_window_display": true
  }
 },
 "nbformat": 4,
 "nbformat_minor": 2
}
